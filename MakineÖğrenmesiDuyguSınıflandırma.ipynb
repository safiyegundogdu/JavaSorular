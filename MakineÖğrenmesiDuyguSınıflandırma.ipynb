{
  "nbformat": 4,
  "nbformat_minor": 0,
  "metadata": {
    "colab": {
      "provenance": [],
      "authorship_tag": "ABX9TyNW38e7ZA5jCCFeAOH2vY/+"
    },
    "kernelspec": {
      "name": "python3",
      "display_name": "Python 3"
    },
    "language_info": {
      "name": "python"
    }
  },
  "cells": [
    {
      "cell_type": "code",
      "execution_count": 52,
      "metadata": {
        "colab": {
          "base_uri": "https://localhost:8080/"
        },
        "id": "LY-tk5pmnxqs",
        "outputId": "8fa8beb2-501c-4329-ddf8-711a38438df8"
      },
      "outputs": [
        {
          "output_type": "stream",
          "name": "stdout",
          "text": [
            "Drive already mounted at /content/drive; to attempt to forcibly remount, call drive.mount(\"/content/drive\", force_remount=True).\n"
          ]
        }
      ],
      "source": [
        "import pandas as pd\n",
        "from sklearn.model_selection import train_test_split\n",
        "from sklearn.feature_extraction.text import TfidfVectorizer, CountVectorizer\n",
        "from sklearn.svm import SVC\n",
        "from sklearn.ensemble import RandomForestClassifier\n",
        "from sklearn.linear_model import LogisticRegression\n",
        "from sklearn.naive_bayes import MultinomialNB\n",
        "from sklearn.tree import DecisionTreeClassifier\n",
        "from sklearn.neighbors import KNeighborsClassifier\n",
        "from sklearn.metrics import accuracy_score, precision_score, recall_score, f1_score\n",
        "from sklearn.metrics import accuracy_score, classification_report, confusion_matrix\n",
        "from sklearn.model_selection import cross_val_score\n",
        "import nltk\n",
        "from nltk.corpus import stopwords\n",
        "from nltk.stem import WordNetLemmatizer\n",
        "import matplotlib.pyplot as plt\n",
        "import seaborn as sns\n",
        "from google.colab import drive\n",
        "from gensim.models import Word2Vec\n",
        "import numpy as np\n",
        "import matplotlib.pyplot as plt\n",
        "import seaborn as sns\n",
        "import re\n",
        "drive.mount('/content/drive')"
      ]
    },
    {
      "cell_type": "code",
      "source": [
        "# 1. Veri Yükleme ve İnceleme\n",
        "data = pd.read_excel('/content/drive/MyDrive/data_set.xlsx')\n",
        "print(data.head())"
      ],
      "metadata": {
        "colab": {
          "base_uri": "https://localhost:8080/"
        },
        "id": "L37vVn_isBpM",
        "outputId": "54ebe923-ff15-49a8-8486-5bddb349e03c"
      },
      "execution_count": 53,
      "outputs": [
        {
          "output_type": "stream",
          "name": "stdout",
          "text": [
            "                                               Yorum    Kategori   Duygu\n",
            "0               Beklentilerimi fazlasıyla karşıladı.       Giyim  Olumlu\n",
            "1  Kullanımı kolay ama malzeme kalitesi daha iyi ...  Elektronik    Nötr\n",
            "2  Paketleme güzeldi ama ürün beklentilerimi karş...  Elektronik    Nötr\n",
            "3                   Ürün harika, tam istediğim gibi!  Elektronik  Olumlu\n",
            "4            Kargo hızlıydı, ürün de sorunsuz geldi.       Giyim  Olumlu\n"
          ]
        }
      ]
    },
    {
      "cell_type": "code",
      "source": [
        "#2.  Metin Önişleme\n",
        "\n",
        "nltk.download('stopwords')\n",
        "nltk.download('wordnet')\n",
        "nltk.download('punkt')\n",
        "nltk.download('omw-1.4')  # Ensure compatibility with the latest version\n",
        "\n",
        "\n",
        "def preprocess_text(text):\n",
        "    text = re.sub(r'[^\\w\\s]', '', text)  # Noktalama işaretlerini kaldır\n",
        "    text = text.lower()  # Küçük harfe dönüştür\n",
        "    text = text.strip()  # Boşlukları temizle\n",
        "    words = text.split()\n",
        "    stop_words = set(stopwords.words('turkish'))\n",
        "    words = [word for word in words if word not in stop_words]\n",
        "    lemmatizer = WordNetLemmatizer()\n",
        "    words = [lemmatizer.lemmatize(word) for word in words]\n",
        "    return ' '.join(words)\n",
        "\n",
        "data['processed_text'] = data['Yorum'].apply(preprocess_text)"
      ],
      "metadata": {
        "colab": {
          "base_uri": "https://localhost:8080/"
        },
        "id": "c9tD9NKssFsU",
        "outputId": "8e335222-8efe-4305-8c7c-21d98125a1ff"
      },
      "execution_count": 54,
      "outputs": [
        {
          "output_type": "stream",
          "name": "stderr",
          "text": [
            "[nltk_data] Downloading package stopwords to /root/nltk_data...\n",
            "[nltk_data]   Package stopwords is already up-to-date!\n",
            "[nltk_data] Downloading package wordnet to /root/nltk_data...\n",
            "[nltk_data]   Package wordnet is already up-to-date!\n",
            "[nltk_data] Downloading package punkt to /root/nltk_data...\n",
            "[nltk_data]   Package punkt is already up-to-date!\n",
            "[nltk_data] Downloading package omw-1.4 to /root/nltk_data...\n",
            "[nltk_data]   Package omw-1.4 is already up-to-date!\n"
          ]
        }
      ]
    },
    {
      "cell_type": "code",
      "source": [
        "# Uygula\n",
        "data['processed_text'] = data['Yorum'].apply(preprocess_text)\n",
        "\n",
        "# Metin sütununu önişle\n",
        "data['processed_text'] = data['Yorum'].apply(preprocess_text)\n",
        "# İlk beş işlenmiş metni göster\n",
        "print(data['processed_text'].head())"
      ],
      "metadata": {
        "colab": {
          "base_uri": "https://localhost:8080/"
        },
        "id": "JiO3dN_utHiq",
        "outputId": "02db0b67-e724-4c03-d0ba-40bd79594164"
      },
      "execution_count": 55,
      "outputs": [
        {
          "output_type": "stream",
          "name": "stdout",
          "text": [
            "0                  beklentilerimi fazlasıyla karşıladı\n",
            "1      kullanımı kolay malzeme kalitesi iyi olabilirdi\n",
            "2    paketleme güzeldi ürün beklentilerimi karşılamadı\n",
            "3                            ürün harika tam istediğim\n",
            "4                   kargo hızlıydı ürün sorunsuz geldi\n",
            "Name: processed_text, dtype: object\n"
          ]
        }
      ]
    },
    {
      "cell_type": "code",
      "source": [
        "# 3. Veri Temsili Yöntemleri\n",
        "# TF-IDF\n",
        "tfidf_vectorizer = TfidfVectorizer(max_features=5000)\n",
        "X_tfidf = tfidf_vectorizer.fit_transform(X)\n",
        "\n",
        "# Bag of Words\n",
        "bow_vectorizer = CountVectorizer(max_features=5000)\n",
        "X_bow = bow_vectorizer.fit_transform(X)\n",
        "\n",
        "# Word2Vec\n",
        "# Öncelikle metinleri kelime listelerine çeviriyoruz\n",
        "X_words = [text.lower().split() for text in X]\n",
        "w2v_model = Word2Vec(sentences=X_words, vector_size=100, window=5, min_count=2, sg=1)\n",
        "\n",
        "# Ortalama Word2Vec temsili\n",
        "def get_average_w2v(text, model, vector_size):\n",
        "    words = text.split()\n",
        "    word_vecs = [model.wv[word] for word in words if word in model.wv]\n",
        "    if len(word_vecs) == 0:\n",
        "        return np.zeros(vector_size)\n",
        "    else:\n",
        "        return np.mean(word_vecs, axis=0)\n",
        "\n",
        "X_w2v = np.array([get_average_w2v(text, w2v_model, 100) for text in X])"
      ],
      "metadata": {
        "id": "XyWH5Q3VDNJt"
      },
      "execution_count": 56,
      "outputs": []
    },
    {
      "cell_type": "code",
      "source": [
        "# Eğitim ve Test Verisi Ayırma\n",
        "X = data['processed_text']\n",
        "y = data['Duygu']\n",
        "X_train, X_test, y_train, y_test = train_test_split(X, y, test_size=0.2, random_state=42)"
      ],
      "metadata": {
        "id": "nMvrNSpltT_H"
      },
      "execution_count": 57,
      "outputs": []
    },
    {
      "cell_type": "code",
      "source": [
        "# TF-IDF ile Özellik Çıkarımı\n",
        "tfidf_vectorizer = TfidfVectorizer()\n",
        "X_train_tfidf = tfidf_vectorizer.fit_transform(X_train)\n",
        "X_test_tfidf = tfidf_vectorizer.transform(X_test)"
      ],
      "metadata": {
        "id": "AdhUfUHltequ"
      },
      "execution_count": 58,
      "outputs": []
    },
    {
      "cell_type": "code",
      "source": [
        "from sklearn.model_selection import train_test_split, KFold\n",
        "# 10-katlı çapraz doğrulama için KFold nesnesi oluşturma\n",
        "kf = KFold(n_splits=10, shuffle=True, random_state=42)\n",
        "\n",
        "# KFold ile çapraz doğrulama indexlerini yazdırma\n",
        "for train_index, test_index in kf.split(X_train_tfidf):\n",
        "    print(\"TRAIN:\", train_index, \"TEST:\", test_index)"
      ],
      "metadata": {
        "colab": {
          "base_uri": "https://localhost:8080/"
        },
        "id": "EP3eSEjxtg_i",
        "outputId": "cfd17f18-0934-4e9c-c13e-32b387fa5949"
      },
      "execution_count": 59,
      "outputs": [
        {
          "output_type": "stream",
          "name": "stdout",
          "text": [
            "TRAIN: [   0    1    2 ... 1197 1198 1199] TEST: [  23   43   44   49   51   54   56   58   70   78   81   86  101  107\n",
            "  109  113  123  135  140  155  156  158  163  168  170  174  184  192\n",
            "  210  218  240  243  244  277  286  292  309  321  323  332  342  344\n",
            "  354  355  358  362  367  371  377  380  381  390  411  423  425  427\n",
            "  430  438  439  461  490  513  523  534  548  549  570  582  596  598\n",
            "  609  615  621  652  670  676  677  692  727  735  737  739  745  765\n",
            "  820  838  844  849  850  855  865  881  889  893  908  909  936  942\n",
            "  950  974  988  991  994 1001 1007 1018 1022 1037 1065 1072 1101 1108\n",
            " 1115 1120 1135 1163 1166 1172 1178 1191]\n",
            "TRAIN: [   0    1    2 ... 1197 1198 1199] TEST: [  10   31   59   83   88   96  128  129  178  198  199  208  209  220\n",
            "  231  233  247  260  265  270  274  275  290  294  296  298  306  308\n",
            "  314  319  327  328  333  382  394  413  415  429  433  462  471  478\n",
            "  481  497  506  519  532  533  542  558  560  597  620  622  626  630\n",
            "  631  636  643  644  657  666  682  693  694  711  713  717  724  728\n",
            "  762  767  770  787  788  789  808  812  818  826  830  834  847  867\n",
            "  874  885  887  898  903  906  907  925  927  933  934  953  956  967\n",
            "  973  984  996  997 1003 1004 1011 1024 1039 1047 1066 1069 1097 1102\n",
            " 1112 1116 1131 1136 1147 1186 1190 1193]\n",
            "TRAIN: [   0    1    4 ... 1197 1198 1199] TEST: [   2    3    6   12   25   27   30   39   47   55   63   66   67   76\n",
            "  100  106  136  138  139  141  211  215  224  227  237  242  256  266\n",
            "  273  289  291  299  311  318  331  336  352  361  363  376  398  405\n",
            "  409  410  428  435  442  451  453  465  486  493  494  514  527  535\n",
            "  543  553  566  575  584  590  599  602  617  628  634  654  667  671\n",
            "  673  695  716  721  723  730  738  756  764  772  774  780  783  798\n",
            "  806  816  822  832  837  843  845  858  864  868  884  914  920  924\n",
            "  966  986 1005 1015 1027 1033 1041 1049 1073 1074 1085 1090 1100 1119\n",
            " 1141 1150 1157 1164 1168 1169 1177 1192]\n",
            "TRAIN: [   0    1    2 ... 1197 1198 1199] TEST: [  29   33   60   65   71   72   80   92   94   97  110  120  137  165\n",
            "  182  183  213  221  235  239  248  249  254  261  280  285  302  305\n",
            "  307  312  316  325  334  339  346  351  359  370  388  420  422  424\n",
            "  432  447  458  467  477  479  482  485  522  526  528  529  541  545\n",
            "  551  552  557  561  567  581  593  594  613  618  629  649  668  678\n",
            "  688  700  706  708  712  714  715  722  743  746  755  757  759  761\n",
            "  768  771  793  801  803  809  836  857  869  900  912  916  917  923\n",
            "  932  944  947  949  958 1013 1023 1036 1045 1067 1081 1083 1089 1091\n",
            " 1094 1098 1110 1114 1117 1138 1160 1162]\n",
            "TRAIN: [   1    2    3 ... 1197 1198 1199] TEST: [   0    5    7    9   62   77   79   82   84   90  104  118  125  133\n",
            "  144  145  148  172  177  181  196  204  212  223  228  238  250  258\n",
            "  259  281  310  329  347  350  357  360  365  373  386  389  404  408\n",
            "  436  440  445  448  449  450  457  460  464  475  501  504  507  525\n",
            "  530  531  536  538  539  554  572  573  578  583  585  588  589  591\n",
            "  605  614  661  704  707  718  731  736  753  777  781  802  811  813\n",
            "  823  829  833  842  861  873  876  890  904  930  959  965  969 1026\n",
            " 1031 1040 1043 1050 1055 1057 1061 1075 1079 1107 1118 1133 1137 1140\n",
            " 1146 1156 1158 1161 1185 1187 1194 1195]\n",
            "TRAIN: [   0    1    2 ... 1197 1198 1199] TEST: [  11   18   24   28   41   42   61   69   73   74   89  108  114  131\n",
            "  132  164  167  169  173  176  185  193  214  234  251  264  267  272\n",
            "  278  300  326  338  366  368  375  383  393  395  396  412  416  417\n",
            "  426  444  454  456  468  483  491  495  498  499  500  516  518  544\n",
            "  547  555  568  576  587  595  601  604  616  650  660  665  674  675\n",
            "  679  689  690  701  720  732  741  752  754  760  807  814  825  839\n",
            "  841  848  859  862  875  879  886  899  911  918  926  940  941  946\n",
            "  948  963  964  968  979  980  993  998  999 1000 1014 1019 1052 1058\n",
            " 1103 1121 1122 1125 1132 1148 1155 1165]\n",
            "TRAIN: [   0    1    2 ... 1197 1198 1199] TEST: [   4   15   19   22   35   46   50   52   57   68   75   85   93   99\n",
            "  102  105  116  117  124  126  142  149  153  179  188  195  203  217\n",
            "  222  236  257  263  268  271  284  304  313  320  324  335  340  341\n",
            "  349  353  356  369  399  431  434  443  446  470  473  487  505  512\n",
            "  521  559  574  580  603  607  611  619  633  635  637  653  655  656\n",
            "  664  684  691  696  697  703  726  733  740  750  773  782  785  786\n",
            "  790  796  799  824  846  852  866  894  901  902  905  910  921  922\n",
            "  937  961  970  971  990  992 1006 1009 1032 1034 1042 1053 1054 1062\n",
            " 1092 1093 1111 1127 1152 1153 1159 1176]\n",
            "TRAIN: [   0    1    2 ... 1194 1195 1196] TEST: [  16   17   26   32   37   38   45   48  111  115  127  152  154  157\n",
            "  160  162  171  175  180  190  191  194  225  226  229  245  255  282\n",
            "  283  287  301  322  348  364  372  374  407  437  469  476  480  489\n",
            "  496  503  509  511  515  517  537  546  569  579  606  625  638  662\n",
            "  669  680  685  687  705  734  744  749  758  784  792  797  800  810\n",
            "  817  821  827  828  853  872  877  882  888  892  895  913  915  938\n",
            "  939  943  976  977  978  982  983 1002 1008 1010 1029 1035 1046 1063\n",
            " 1068 1070 1077 1084 1087 1105 1113 1128 1143 1149 1151 1167 1173 1175\n",
            " 1179 1180 1181 1182 1184 1197 1198 1199]\n",
            "TRAIN: [   0    2    3 ... 1197 1198 1199] TEST: [   1    8   36   53   95  103  112  119  122  143  146  147  150  151\n",
            "  159  186  197  202  207  219  232  246  253  262  279  293  297  303\n",
            "  317  345  384  400  402  403  414  419  421  441  452  463  472  484\n",
            "  488  524  540  550  556  563  571  577  586  608  610  623  624  627\n",
            "  632  639  640  641  645  648  651  658  659  663  672  681  698  709\n",
            "  710  742  748  751  778  795  819  835  851  854  880  883  896  919\n",
            "  928  931  935  945  951  952  954  962  972  981  985  987  989 1012\n",
            " 1020 1030 1048 1059 1060 1078 1080 1088 1096 1106 1109 1124 1134 1139\n",
            " 1142 1144 1145 1171 1174 1188 1189 1196]\n",
            "TRAIN: [   0    1    2 ... 1197 1198 1199] TEST: [  13   14   20   21   34   40   64   87   91   98  121  130  134  161\n",
            "  166  187  189  200  201  205  206  216  230  241  252  269  276  288\n",
            "  295  315  330  337  343  378  379  385  387  391  392  397  401  406\n",
            "  418  455  459  466  474  492  502  508  510  520  562  564  565  592\n",
            "  600  612  642  646  647  683  686  699  702  719  725  729  747  763\n",
            "  766  769  775  776  779  791  794  804  805  815  831  840  856  860\n",
            "  863  870  871  878  891  897  929  955  957  960  975  995 1016 1017\n",
            " 1021 1025 1028 1038 1044 1051 1056 1064 1071 1076 1082 1086 1095 1099\n",
            " 1104 1123 1126 1129 1130 1154 1170 1183]\n"
          ]
        }
      ]
    },
    {
      "cell_type": "code",
      "source": [
        "# Eğitim ve test kümelerinin boyutlarını yazdır\n",
        "print(f\"Eğitim kümesi boyutu: {X_train_tfidf.shape[0]}, Test kümesi boyutu: {X_test_tfidf.shape[0]}\")"
      ],
      "metadata": {
        "colab": {
          "base_uri": "https://localhost:8080/"
        },
        "id": "JK8TChMxtxIP",
        "outputId": "61becad7-235e-43c7-fb07-d6e5c9d6c90d"
      },
      "execution_count": 60,
      "outputs": [
        {
          "output_type": "stream",
          "name": "stdout",
          "text": [
            "Eğitim kümesi boyutu: 1200, Test kümesi boyutu: 300\n"
          ]
        }
      ]
    },
    {
      "cell_type": "code",
      "source": [
        "\n",
        "\n",
        "# Modelleri tanımlama\n",
        "models = {\n",
        "\"Lojistik Regresyon\": LogisticRegression(max_iter=1000),\n",
        "\"Karar Ağacı\": DecisionTreeClassifier(),\n",
        "\"Rastgele Orman\": RandomForestClassifier(),\n",
        "\"SVM\": SVC(),\n",
        "\"KNN\": KNeighborsClassifier()\n",
        "}"
      ],
      "metadata": {
        "id": "77sCYSVs7AOG"
      },
      "execution_count": 61,
      "outputs": []
    },
    {
      "cell_type": "code",
      "source": [
        "# Seçilen öznitelik seti (örnek olarak TF-IDF kullanıyorum)\n",
        "# X_tfidf değişkenini oluşturmak için tüm veriyi TF-IDF ile vektörleştir\n",
        "tfidf_vectorizer = TfidfVectorizer() # TF-IDF nesnesini oluştur\n",
        "X_tfidf = tfidf_vectorizer.fit_transform(X) # Tüm veriyi (X) vektörleştir\n",
        "\n",
        "features = X_tfidf\n",
        "target = y # labels yerine y kullanılmalı (Duygu sütunu)\n",
        "# Her model için çapraz doğrulama ile performans değerlendirme\n",
        "results = {}\n",
        "for name, model in models.items():\n",
        "    cv_scores = cross_val_score(model, features, target, cv=10)\n",
        "    results[name] = cv_scores\n",
        "    print(f\"{name} Ortalama Doğruluk: {cv_scores.mean()*100:.2f}%\") # Her model için sonuç yazdır"
      ],
      "metadata": {
        "colab": {
          "base_uri": "https://localhost:8080/"
        },
        "id": "x3uG_oH37sfE",
        "outputId": "e2a288e3-0fa3-4458-be2f-c557c786d567"
      },
      "execution_count": 62,
      "outputs": [
        {
          "output_type": "stream",
          "name": "stdout",
          "text": [
            "Lojistik Regresyon Ortalama Doğruluk: 99.40%\n",
            "Karar Ağacı Ortalama Doğruluk: 97.73%\n",
            "Rastgele Orman Ortalama Doğruluk: 98.73%\n",
            "SVM Ortalama Doğruluk: 99.33%\n",
            "KNN Ortalama Doğruluk: 96.13%\n"
          ]
        }
      ]
    },
    {
      "cell_type": "code",
      "source": [
        "# Sonuçları yazdır\n",
        "for model_name, scores in results.items():\n",
        "    print(f\"{model_name} modelinin ortalama doğruluk skoru: {scores.mean():.2f}, Standart Sapma: {scores.std():.2f}\")"
      ],
      "metadata": {
        "colab": {
          "base_uri": "https://localhost:8080/"
        },
        "id": "Lb8YcGKu8KID",
        "outputId": "974fbdcc-dfc9-4d62-c62b-c8374d731fc2"
      },
      "execution_count": 63,
      "outputs": [
        {
          "output_type": "stream",
          "name": "stdout",
          "text": [
            "Lojistik Regresyon modelinin ortalama doğruluk skoru: 0.99, Standart Sapma: 0.02\n",
            "Karar Ağacı modelinin ortalama doğruluk skoru: 0.98, Standart Sapma: 0.05\n",
            "Rastgele Orman modelinin ortalama doğruluk skoru: 0.99, Standart Sapma: 0.03\n",
            "SVM modelinin ortalama doğruluk skoru: 0.99, Standart Sapma: 0.01\n",
            "KNN modelinin ortalama doğruluk skoru: 0.96, Standart Sapma: 0.07\n"
          ]
        }
      ]
    },
    {
      "cell_type": "code",
      "source": [
        "# TF ve TF-IDF hesaplama\n",
        "tf_vectorizer = CountVectorizer(analyzer=lambda x: x)\n",
        "tfidf_vectorizer = TfidfVectorizer(analyzer=lambda x: x)\n",
        "tf_matrix = tf_vectorizer.fit_transform(data['processed_text'])\n",
        "tfidf_matrix = tfidf_vectorizer.fit_transform(data['processed_text'])\n",
        "# Etiketleri ayarla\n",
        "labels = data['Duygu']\n",
        "\n",
        "\n",
        "# Eğitim ve test kümelerini ayır\n",
        "X_train_tf, X_test_tf, y_train, y_test = train_test_split(tf_matrix, labels, test_size=0.2,random_state=42)\n",
        "X_train_tfidf, X_test_tfidf, _, _ = train_test_split(tfidf_matrix, labels, test_size=0.2, random_state=42)\n",
        "# Sınıflandırıcıları tanımla\n",
        "models = {\n",
        "    \"Naive Bayes\": MultinomialNB(),\n",
        "     \"Lojistik Regresyon\": LogisticRegression (max_iter=1000),\n",
        "    \"Karar Ağacı\": DecisionTreeClassifier(),\n",
        "    \"Rastgele Orman\": RandomForestClassifier(n_estimators=100),\n",
        "    \"SVM\": SVC(),\n",
        "    \"KNN\": KNeighborsClassifier()\n",
        "}\n"
      ],
      "metadata": {
        "id": "u0nMHs6N8bXc"
      },
      "execution_count": 64,
      "outputs": []
    },
    {
      "cell_type": "code",
      "source": [
        "from sklearn.metrics import accuracy_score, classification_report\n",
        "\n",
        "for name, model in models.items():\n",
        "    print(f\"\\nModel: {name}\")\n",
        "\n",
        "    # TF ile eğitim ve test\n",
        "    print(\"\\nUsing Term Frequency (TF):\")\n",
        "    model.fit(X_train_tf, y_train)\n",
        "    predictions_tf = model.predict(X_test_tf)\n",
        "    print(f\"Accuracy (TF): {accuracy_score(y_test, predictions_tf):.4f}\")\n",
        "    print(classification_report(y_test, predictions_tf))\n",
        "\n",
        "    # TF-IDF ile eğitim ve test\n",
        "    print(\"\\nUsing Term Frequency-Inverse Document Frequency (TF-IDF):\")\n",
        "    model.fit(X_train_tfidf, y_train)\n",
        "    predictions_tfidf = model.predict(X_test_tfidf)\n",
        "    print(f\"Accuracy (TF-IDF): {accuracy_score(y_test, predictions_tfidf):.4f}\")\n",
        "    print(classification_report(y_test, predictions_tfidf))"
      ],
      "metadata": {
        "colab": {
          "base_uri": "https://localhost:8080/"
        },
        "id": "tbUxcOze_i42",
        "outputId": "9ee24bc0-df8d-42d2-b917-9e501f7548a1"
      },
      "execution_count": 65,
      "outputs": [
        {
          "output_type": "stream",
          "name": "stdout",
          "text": [
            "\n",
            "Model: Naive Bayes\n",
            "\n",
            "Using Term Frequency (TF):\n",
            "Accuracy (TF): 0.6700\n",
            "              precision    recall  f1-score   support\n",
            "\n",
            "        Nötr       0.64      0.78      0.70       107\n",
            "      Olumlu       0.67      0.69      0.68        91\n",
            "     Olumsuz       0.72      0.54      0.62       102\n",
            "\n",
            "    accuracy                           0.67       300\n",
            "   macro avg       0.68      0.67      0.67       300\n",
            "weighted avg       0.68      0.67      0.67       300\n",
            "\n",
            "\n",
            "Using Term Frequency-Inverse Document Frequency (TF-IDF):\n",
            "Accuracy (TF-IDF): 0.6300\n",
            "              precision    recall  f1-score   support\n",
            "\n",
            "        Nötr       0.59      0.65      0.62       107\n",
            "      Olumlu       0.66      0.67      0.66        91\n",
            "     Olumsuz       0.65      0.57      0.61       102\n",
            "\n",
            "    accuracy                           0.63       300\n",
            "   macro avg       0.63      0.63      0.63       300\n",
            "weighted avg       0.63      0.63      0.63       300\n",
            "\n",
            "\n",
            "Model: Lojistik Regresyon\n",
            "\n",
            "Using Term Frequency (TF):\n",
            "Accuracy (TF): 0.7600\n",
            "              precision    recall  f1-score   support\n",
            "\n",
            "        Nötr       0.78      0.75      0.77       107\n",
            "      Olumlu       0.75      0.84      0.79        91\n",
            "     Olumsuz       0.75      0.71      0.73       102\n",
            "\n",
            "    accuracy                           0.76       300\n",
            "   macro avg       0.76      0.76      0.76       300\n",
            "weighted avg       0.76      0.76      0.76       300\n",
            "\n",
            "\n",
            "Using Term Frequency-Inverse Document Frequency (TF-IDF):\n",
            "Accuracy (TF-IDF): 0.7300\n",
            "              precision    recall  f1-score   support\n",
            "\n",
            "        Nötr       0.73      0.69      0.71       107\n",
            "      Olumlu       0.74      0.79      0.77        91\n",
            "     Olumsuz       0.72      0.72      0.72       102\n",
            "\n",
            "    accuracy                           0.73       300\n",
            "   macro avg       0.73      0.73      0.73       300\n",
            "weighted avg       0.73      0.73      0.73       300\n",
            "\n",
            "\n",
            "Model: Karar Ağacı\n",
            "\n",
            "Using Term Frequency (TF):\n",
            "Accuracy (TF): 0.9933\n",
            "              precision    recall  f1-score   support\n",
            "\n",
            "        Nötr       1.00      1.00      1.00       107\n",
            "      Olumlu       1.00      0.98      0.99        91\n",
            "     Olumsuz       0.98      1.00      0.99       102\n",
            "\n",
            "    accuracy                           0.99       300\n",
            "   macro avg       0.99      0.99      0.99       300\n",
            "weighted avg       0.99      0.99      0.99       300\n",
            "\n",
            "\n",
            "Using Term Frequency-Inverse Document Frequency (TF-IDF):\n",
            "Accuracy (TF-IDF): 0.9933\n",
            "              precision    recall  f1-score   support\n",
            "\n",
            "        Nötr       1.00      0.99      1.00       107\n",
            "      Olumlu       0.99      0.99      0.99        91\n",
            "     Olumsuz       0.99      1.00      1.00       102\n",
            "\n",
            "    accuracy                           0.99       300\n",
            "   macro avg       0.99      0.99      0.99       300\n",
            "weighted avg       0.99      0.99      0.99       300\n",
            "\n",
            "\n",
            "Model: Rastgele Orman\n",
            "\n",
            "Using Term Frequency (TF):\n",
            "Accuracy (TF): 0.9967\n",
            "              precision    recall  f1-score   support\n",
            "\n",
            "        Nötr       1.00      1.00      1.00       107\n",
            "      Olumlu       1.00      0.99      0.99        91\n",
            "     Olumsuz       0.99      1.00      1.00       102\n",
            "\n",
            "    accuracy                           1.00       300\n",
            "   macro avg       1.00      1.00      1.00       300\n",
            "weighted avg       1.00      1.00      1.00       300\n",
            "\n",
            "\n",
            "Using Term Frequency-Inverse Document Frequency (TF-IDF):\n",
            "Accuracy (TF-IDF): 0.9967\n",
            "              precision    recall  f1-score   support\n",
            "\n",
            "        Nötr       1.00      1.00      1.00       107\n",
            "      Olumlu       1.00      0.99      0.99        91\n",
            "     Olumsuz       0.99      1.00      1.00       102\n",
            "\n",
            "    accuracy                           1.00       300\n",
            "   macro avg       1.00      1.00      1.00       300\n",
            "weighted avg       1.00      1.00      1.00       300\n",
            "\n",
            "\n",
            "Model: SVM\n",
            "\n",
            "Using Term Frequency (TF):\n",
            "Accuracy (TF): 0.9867\n",
            "              precision    recall  f1-score   support\n",
            "\n",
            "        Nötr       0.99      1.00      1.00       107\n",
            "      Olumlu       0.98      0.98      0.98        91\n",
            "     Olumsuz       0.99      0.98      0.99       102\n",
            "\n",
            "    accuracy                           0.99       300\n",
            "   macro avg       0.99      0.99      0.99       300\n",
            "weighted avg       0.99      0.99      0.99       300\n",
            "\n",
            "\n",
            "Using Term Frequency-Inverse Document Frequency (TF-IDF):\n",
            "Accuracy (TF-IDF): 0.9867\n",
            "              precision    recall  f1-score   support\n",
            "\n",
            "        Nötr       0.99      1.00      1.00       107\n",
            "      Olumlu       0.98      0.98      0.98        91\n",
            "     Olumsuz       0.99      0.98      0.99       102\n",
            "\n",
            "    accuracy                           0.99       300\n",
            "   macro avg       0.99      0.99      0.99       300\n",
            "weighted avg       0.99      0.99      0.99       300\n",
            "\n",
            "\n",
            "Model: KNN\n",
            "\n",
            "Using Term Frequency (TF):\n",
            "Accuracy (TF): 0.9700\n",
            "              precision    recall  f1-score   support\n",
            "\n",
            "        Nötr       0.97      0.96      0.97       107\n",
            "      Olumlu       0.96      0.98      0.97        91\n",
            "     Olumsuz       0.98      0.97      0.98       102\n",
            "\n",
            "    accuracy                           0.97       300\n",
            "   macro avg       0.97      0.97      0.97       300\n",
            "weighted avg       0.97      0.97      0.97       300\n",
            "\n",
            "\n",
            "Using Term Frequency-Inverse Document Frequency (TF-IDF):\n",
            "Accuracy (TF-IDF): 0.9533\n",
            "              precision    recall  f1-score   support\n",
            "\n",
            "        Nötr       0.94      0.95      0.94       107\n",
            "      Olumlu       0.95      0.96      0.95        91\n",
            "     Olumsuz       0.98      0.95      0.97       102\n",
            "\n",
            "    accuracy                           0.95       300\n",
            "   macro avg       0.95      0.95      0.95       300\n",
            "weighted avg       0.95      0.95      0.95       300\n",
            "\n"
          ]
        }
      ]
    },
    {
      "cell_type": "code",
      "source": [
        "# Sonuçları Görselleştirme\n",
        "results_df = pd.DataFrame(results)\n",
        "\n",
        "# results_df'ye Model sütunu ekle\n",
        "results_df = results_df.T.reset_index()  # Transpose and reset index\n",
        "results_df = results_df.rename(columns={'index': 'Model'}) # Rename index column to 'Model'\n",
        "\n",
        "# Doğruluk Grafiği\n",
        "plt.figure(figsize=(5, 3))\n",
        "sns.barplot(data=results_df, x=\"Model\", y=0,  # Use column 0 for y-axis\n",
        "            #hue=\"Representation\"  # Remove hue for now\n",
        "           )\n",
        "plt.title(\"Model Accuracy by Text Representation\")\n",
        "plt.ylabel(\"Accuracy\")\n",
        "plt.xlabel(\"Model\")\n",
        "#plt.legend(title=\"Representation\")  # Remove legend for now\n",
        "plt.xticks(rotation=45)\n",
        "plt.tight_layout()\n",
        "plt.show()\n",
        "\n",
        "\n",
        "\n",
        "f1_scores = []\n",
        "# Use the same models as in results_df to calculate F1-scores\n",
        "for model_name in results_df['Model']: # Iterate over model names in results_df\n",
        "    model = models[model_name] # Get the model from the models dictionary\n",
        "    model.fit(X_train_tfidf, y_train)  # Modeli eğit (TF-IDF kullanarak)\n",
        "    y_pred = model.predict(X_test_tfidf)  # Tahminleri yap\n",
        "    f1 = f1_score(y_test, y_pred, average='weighted')  # F1-Score'u hesapla\n",
        "    f1_scores.append(f1)\n",
        "\n",
        "results_df['F1-Score'] = f1_scores  # F1-Score'u results_df'ye ekle\n",
        "\n",
        "\n",
        "plt.figure(figsize=(5, 3))\n",
        "sns.barplot(data=results_df, x=\"Model\", y=\"F1-Score\") # \"F1-Score\" sütununu kullan\n",
        "plt.title(\"Model F1-Score by Text Representation\")\n",
        "plt.ylabel(\"F1-Score\")\n",
        "plt.xlabel(\"Model\")\n",
        "plt.xticks(rotation=45)\n",
        "plt.tight_layout()\n",
        "plt.show()\n"
      ],
      "metadata": {
        "colab": {
          "base_uri": "https://localhost:8080/",
          "height": 597
        },
        "id": "zlYnYkBkC1TK",
        "outputId": "2375f1e0-be46-4c4d-932a-4a98d3275949"
      },
      "execution_count": 72,
      "outputs": [
        {
          "output_type": "display_data",
          "data": {
            "text/plain": [
              "<Figure size 500x300 with 1 Axes>"
            ],
            "image/png": "[encoded data removed]"
          },
          "metadata": {}
        },
        {
          "output_type": "display_data",
          "data": {
            "text/plain": [
              "<Figure size 500x300 with 1 Axes>"
            ],
            "image/png": "[encoded data removed]"
          },
          "metadata": {}
        }
      ]
    }
  ]
}